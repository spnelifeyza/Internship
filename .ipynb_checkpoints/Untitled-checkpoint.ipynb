{
 "cells": [
  {
   "cell_type": "code",
   "execution_count": null,
   "id": "dd9d5a51-1ef0-4f9c-90b5-ee28fdaaa236",
   "metadata": {},
   "outputs": [],
   "source": [
    "Intel\n",
    "in 1999\n",
    "by Gary Bradsky\n",
    "\n",
    "supports C++, Python, Java\n",
    "\n",
    "OpenCV-Python -> Python API of OpenCV"
   ]
  },
  {
   "cell_type": "code",
   "execution_count": null,
   "id": "3876164b-f7a2-454a-b3c9-a0bdd0da54d1",
   "metadata": {},
   "outputs": [],
   "source": [
    "Numpy -> highly optimized library for numerical operations"
   ]
  },
  {
   "cell_type": "code",
   "execution_count": null,
   "id": "bea47b88-9135-404c-959d-d55e52d5a67b",
   "metadata": {},
   "outputs": [],
   "source": [
    "pip install opencv-python # install opencv lib\n",
    "import cv2 # import\n",
    "\n",
    "pip install numpy # install numpy lib\n",
    "import numpy as np # import"
   ]
  },
  {
   "cell_type": "code",
   "execution_count": null,
   "id": "f17e3297-f1c8-4707-8faa-3762cc7ad76c",
   "metadata": {},
   "outputs": [],
   "source": []
  }
 ],
 "metadata": {
  "kernelspec": {
   "display_name": "Python 3 (ipykernel)",
   "language": "python",
   "name": "python3"
  },
  "language_info": {
   "codemirror_mode": {
    "name": "ipython",
    "version": 3
   },
   "file_extension": ".py",
   "mimetype": "text/x-python",
   "name": "python",
   "nbconvert_exporter": "python",
   "pygments_lexer": "ipython3",
   "version": "3.12.8"
  }
 },
 "nbformat": 4,
 "nbformat_minor": 5
}
